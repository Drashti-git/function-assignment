{
  "nbformat": 4,
  "nbformat_minor": 0,
  "metadata": {
    "colab": {
      "provenance": []
    },
    "kernelspec": {
      "name": "python3",
      "display_name": "Python 3"
    },
    "language_info": {
      "name": "python"
    }
  },
  "cells": [
    {
      "cell_type": "code",
      "execution_count": null,
      "metadata": {
        "id": "a_jhwCdUu_QU"
      },
      "outputs": [],
      "source": [
        "#1. Write a Python function that takes a list of numbers as input and returns the sum of all even numbers in\n",
        "the list."
      ]
    },
    {
      "cell_type": "code",
      "source": [
        "#2. Create a Python function that accepts a string and returns the reverse of that string.\n",
        "def reverse_string(string):\n",
        "    return string[::-1]\n",
        "print(reverse_string(\"welcome\"))"
      ],
      "metadata": {
        "colab": {
          "base_uri": "https://localhost:8080/"
        },
        "id": "YT93MWb-v_hP",
        "outputId": "348c326b-daa9-4336-b587-ce0b957d7b4b"
      },
      "execution_count": null,
      "outputs": [
        {
          "output_type": "stream",
          "name": "stdout",
          "text": [
            "emoclew\n"
          ]
        }
      ]
    },
    {
      "cell_type": "code",
      "source": [
        "#3. Implement a Python function that takes a list of integers and returns a new list containing the squares of each number.\n",
        "def func_(a):\n",
        "  l=[]\n",
        "  for i in a:\n",
        "    l.append(i*i)\n",
        "  return l"
      ],
      "metadata": {
        "id": "HOHCouxvv_jF"
      },
      "execution_count": null,
      "outputs": []
    },
    {
      "cell_type": "code",
      "source": [
        "a = [1,5,7,5,3]\n",
        "print(func_(a))"
      ],
      "metadata": {
        "colab": {
          "base_uri": "https://localhost:8080/"
        },
        "id": "YgJpX1Z-v_m4",
        "outputId": "e8befdb4-7ce8-4a06-d734-4b0483a0c2ef"
      },
      "execution_count": null,
      "outputs": [
        {
          "output_type": "stream",
          "name": "stdout",
          "text": [
            "[1, 25, 49, 25, 9]\n"
          ]
        }
      ]
    },
    {
      "cell_type": "code",
      "source": [
        "#4.Write a Python function that checks if a given number is prime or not from 1 to 200.\n",
        "\n",
        "def prime_number():\n",
        "    list1 = []\n",
        "\n",
        "    for i in range(2, 200):\n",
        "        is_prime = True\n",
        "        for j in range(2, int(i**0.5) + 1):\n",
        "            if i % j == 0:\n",
        "                is_prime = False\n",
        "                break\n",
        "        if is_prime:\n",
        "            list1.append(i)\n",
        "\n",
        "    return list1\n",
        "print(prime_number())\n",
        "\n"
      ],
      "metadata": {
        "id": "jLRLSj1ov_oe",
        "colab": {
          "base_uri": "https://localhost:8080/"
        },
        "outputId": "029b74d1-057c-44ef-b671-945220be77f9"
      },
      "execution_count": 1,
      "outputs": [
        {
          "output_type": "stream",
          "name": "stdout",
          "text": [
            "[2, 3, 5, 7, 11, 13, 17, 19, 23, 29, 31, 37, 41, 43, 47, 53, 59, 61, 67, 71, 73, 79, 83, 89, 97, 101, 103, 107, 109, 113, 127, 131, 137, 139, 149, 151, 157, 163, 167, 173, 179, 181, 191, 193, 197, 199]\n"
          ]
        }
      ]
    },
    {
      "cell_type": "code",
      "source": [
        "#5.Create an iterator class in Python that generates the Fibonacci sequence up to a specified number of terms.\n",
        "class FibonacciIterator:\n",
        "    def __init__(self, n):\n",
        "        self.n = n\n",
        "        self.a, self.b = 0, 1\n",
        "        self.count = 0\n",
        "\n",
        "    def __iter__(self):\n",
        "        return self\n",
        "\n",
        "    def __next__(self):\n",
        "        if self.count >= self.n:\n",
        "            raise StopIteration\n",
        "        else:\n",
        "            # Return the current term\n",
        "            result = self.a\n",
        "\n",
        "            self.a, self.b = self.b, self.a + self.b\n",
        "            self.count += 1\n",
        "            return result\n",
        "\n",
        "fib_iter = FibonacciIterator(10)\n",
        "\n",
        "for term in fib_iter:\n",
        "    print(term)\n",
        "\n"
      ],
      "metadata": {
        "id": "5XBSWfdlv_ue",
        "colab": {
          "base_uri": "https://localhost:8080/"
        },
        "outputId": "0d116e08-890a-4224-a23f-0fea180d5ff7"
      },
      "execution_count": 2,
      "outputs": [
        {
          "output_type": "stream",
          "name": "stdout",
          "text": [
            "0\n",
            "1\n",
            "1\n",
            "2\n",
            "3\n",
            "5\n",
            "8\n",
            "13\n",
            "21\n",
            "34\n"
          ]
        }
      ]
    },
    {
      "cell_type": "code",
      "source": [
        "#6. Write a generator function in Python that yields the powers of 2 up to a given exponent.\n",
        "def powers_of_two(exponent):\n",
        "    for i in range(exponent + 1):\n",
        "        yield 2 ** i\n",
        "\n",
        "# Example usage\n",
        "for power in powers_of_two(5):\n",
        "    print(power)"
      ],
      "metadata": {
        "id": "_ugJbBELv_zU",
        "colab": {
          "base_uri": "https://localhost:8080/"
        },
        "outputId": "d734a19f-ba69-4c8d-90d5-ca60faab5e17"
      },
      "execution_count": 3,
      "outputs": [
        {
          "output_type": "stream",
          "name": "stdout",
          "text": [
            "1\n",
            "2\n",
            "4\n",
            "8\n",
            "16\n",
            "32\n"
          ]
        }
      ]
    },
    {
      "cell_type": "code",
      "source": [
        "#7. Implement a generator function that reads a file line by line and yields each line as a string.\n",
        "def fun_(file):\n",
        "    with open(filename, 'r') as file:\n",
        "        for line in file:\n",
        "            yield line\n",
        "filename = '.txt'\n",
        "for line in fun_file):\n",
        "    print(line, end='')\n"
      ],
      "metadata": {
        "id": "GFf9jTnhv_8d",
        "colab": {
          "base_uri": "https://localhost:8080/",
          "height": 106
        },
        "outputId": "76fab6c2-6bef-4bca-fc29-13bbd529171f"
      },
      "execution_count": 4,
      "outputs": [
        {
          "output_type": "error",
          "ename": "SyntaxError",
          "evalue": "unmatched ')' (<ipython-input-4-cd3c9cb1164e>, line 7)",
          "traceback": [
            "\u001b[0;36m  File \u001b[0;32m\"<ipython-input-4-cd3c9cb1164e>\"\u001b[0;36m, line \u001b[0;32m7\u001b[0m\n\u001b[0;31m    for line in fun_file):\u001b[0m\n\u001b[0m                        ^\u001b[0m\n\u001b[0;31mSyntaxError\u001b[0m\u001b[0;31m:\u001b[0m unmatched ')'\n"
          ]
        }
      ]
    },
    {
      "cell_type": "code",
      "source": [
        "#8. Use a lambda function in Python to sort a list of tuples based on the second element of each tuple\n",
        "tup = [(1,\"riya\"),(2,\"96\"),(3,\"dsa\")]\n",
        "sor_list = sorted(tup,key=lambda x:x[1])\n",
        "print(sor_list)"
      ],
      "metadata": {
        "id": "YBYGeFWSvt5T",
        "colab": {
          "base_uri": "https://localhost:8080/"
        },
        "outputId": "c6dcb449-4dea-403c-e950-103e0d1823b3"
      },
      "execution_count": 8,
      "outputs": [
        {
          "output_type": "stream",
          "name": "stdout",
          "text": [
            "[(2, '96'), (3, 'dsa'), (1, 'riya')]\n"
          ]
        }
      ]
    },
    {
      "cell_type": "code",
      "source": [
        "# Question:-9:-Write a Python program that uses `map()` to convert a list of temperatures from Celsius to Fahrenheit.\n",
        "cels = [24,30,50]\n",
        "\n",
        "fahrenheit = list(map(lambda c: c * 9/5 + 32, cels))\n",
        "\n",
        "print(\"Celsius temperatures is:\", cels)\n",
        "print(\"Fahrenheit temperatures is:\", fahrenheit)\n"
      ],
      "metadata": {
        "colab": {
          "base_uri": "https://localhost:8080/"
        },
        "id": "wC3sv0Rdc6E1",
        "outputId": "351729cb-6609-4f46-eec4-4bcd48e84fdc"
      },
      "execution_count": 10,
      "outputs": [
        {
          "output_type": "stream",
          "name": "stdout",
          "text": [
            "Celsius temperatures is: [24, 30, 50]\n",
            "Fahrenheit temperatures is: [75.2, 86.0, 122.0]\n"
          ]
        }
      ]
    },
    {
      "cell_type": "code",
      "source": [
        "#10.Question_10:- Create a Python program that uses `filter()` to remove all the vowels from a given string.\n",
        "def remove_vowels(input_string):\n",
        "    vowels = 'aeiouAEIOU'\n",
        "    return ''.join(filter(lambda char: char not in vowels,input_string))\n",
        "\n",
        "\n",
        "\n"
      ],
      "metadata": {
        "id": "EiQZPQqgc6MV"
      },
      "execution_count": 17,
      "outputs": []
    },
    {
      "cell_type": "code",
      "source": [
        " input_string= \"hi,im drashti is here\"\n",
        " result_string = remove_vowels(input_string)\n",
        " print(\"string without vowels is:\",result_string)"
      ],
      "metadata": {
        "colab": {
          "base_uri": "https://localhost:8080/"
        },
        "id": "cNuupKs-c6RX",
        "outputId": "59b38cfe-1c59-4a22-8b4c-7f01d994e6be"
      },
      "execution_count": 19,
      "outputs": [
        {
          "output_type": "stream",
          "name": "stdout",
          "text": [
            "string without vowels is: h,m drsht s hr\n"
          ]
        }
      ]
    },
    {
      "cell_type": "code",
      "source": [
        "#11.) Imagine an accounting routine used in a book shop. It works on a list with sublists, which look like this:\n",
        "#Write a Python program, which returns a list with 2-tuples. Each tuple consists of the order number and the\n",
        "#product of the price per item and the quantity. The product should be increased by 10,- € if the value of theorder is smaller than 100,00 €.Write a Python program using lambda and map"
      ],
      "metadata": {
        "id": "D5VuDNmmc6TD"
      },
      "execution_count": null,
      "outputs": []
    },
    {
      "cell_type": "code",
      "source": [
        "orders = [\n",
        "    [34587, 4.50, 10],\n",
        "    [98762, 8.95, 20],\n",
        "    [77226, 13.00, 5],\n",
        "    [88112, 1.50, 30]\n",
        "]\n",
        "\n",
        "compute_cost = lambda order: (order[0], order[1] * order[2] if order[1] * order[2] >= 100 else order[1] * order[2] + 10)\n",
        "\n",
        "order_totals = list(map(compute_cost, orders))\n",
        "\n",
        "print(order_totals)\n"
      ],
      "metadata": {
        "colab": {
          "base_uri": "https://localhost:8080/"
        },
        "id": "IZtWkIjPc6Xd",
        "outputId": "73a61cfa-1915-4c0b-c1da-68e5fcb6ee55"
      },
      "execution_count": 20,
      "outputs": [
        {
          "output_type": "stream",
          "name": "stdout",
          "text": [
            "[(34587, 55.0), (98762, 179.0), (77226, 75.0), (88112, 55.0)]\n"
          ]
        }
      ]
    },
    {
      "cell_type": "markdown",
      "source": [
        "**Theoretical part:**"
      ],
      "metadata": {
        "id": "QMa17Gvtiwhi"
      }
    },
    {
      "cell_type": "markdown",
      "source": [
        "\n",
        "1. What is the difference between a function and a method in Python?\n",
        "\n",
        "•\tIn Python, methods and functions have similar purposes but differ in important ways. Functions are independent blocks of code that can be called from anywhere, while methods are tied to objects or classes and need an object or class instance to be invoked.\n",
        "\n",
        "•\tex .function syntex.def func.(arguments)\n",
        "\n",
        "•\tmethod syntex:\n",
        "\n",
        "•\tclass ClassName:\n",
        "\n",
        "   def method_name():\n"
      ],
      "metadata": {
        "id": "NXCw8ihfjlJK"
      }
    },
    {
      "cell_type": "markdown",
      "source": [
        "2. Explain the concept of function arguments and parameters in Python.\n",
        "\n",
        "•\tA parameter is the variable listed inside the parentheses in the function definition.\n",
        " An argument is the value that is sent to the function when it is called.\n",
        "\n",
        "•\tdef function():\n"
      ],
      "metadata": {
        "id": "DZAlOn1TjsmR"
      }
    },
    {
      "cell_type": "markdown",
      "source": [
        "3. What are the different ways to define and call a function in Python?\n",
        "\n",
        "•\tdefine a function with the def keyword, then write the function identifier (name) followed by parentheses and a colon. The next thing you have to do is make sure you indent with a tab or 4 spaces, and then specify what you want the function to do for you.\n",
        "•\tdef functionName():\n",
        "    # What to make the function do\n"
      ],
      "metadata": {
        "id": "e5nFRVq9jsSD"
      }
    },
    {
      "cell_type": "markdown",
      "source": [
        "4. What is the purpose of the `return` statement in a Python function?\n",
        "\n",
        "A return statement ends the execution of a function, and returns control to the calling function.\n"
      ],
      "metadata": {
        "id": "3N8tUgFzjrxK"
      }
    },
    {
      "cell_type": "markdown",
      "source": [
        "5. What are iterators in Python and how do they differ from iterables?\n",
        "\n",
        "Iterators power and control the iteration process, while iterables typicallyhold data that you want to iterate over one value at a time.\n",
        "\n",
        "In the python docs, you can see that the list() function takes an iterable.\n",
        "In the python docs, you can also see that the next() funciton takes an iterator\n"
      ],
      "metadata": {
        "id": "ayKV3WXakSFx"
      }
    },
    {
      "cell_type": "markdown",
      "source": [
        "6. Explain the concept of generators in Python and how they are defined.\n",
        "\n",
        "A Python generator function allows you to declare a function that behaves like an iterator, providing a faster and easier way to create iterators. They can be used on an abstract container of data to turn it into an iterable object like lists, dictionaries and strings.\n"
      ],
      "metadata": {
        "id": "bGHo8MnOkl5a"
      }
    },
    {
      "cell_type": "markdown",
      "source": [
        "7.. What are the advantages of using generators over regular functions?\n",
        "\n",
        "Generator functions are defined as the normal function, but to identify the difference between the normal function and generator function is that in the normal function, we use the return keyword to return the values, and in the generator function, instead of using the return, we use yield to execute our iterator.\n"
      ],
      "metadata": {
        "id": "RYNAo_PPkmKc"
      }
    },
    {
      "cell_type": "markdown",
      "source": [
        "8. What is a lambda function in Python and when is it typically used?\n",
        "\n",
        " use of lambda functions when an anonymous function is required for a short period of time.The syntax of a lambda function is lambda args: expression .\n"
      ],
      "metadata": {
        "id": "tXbNbWoUkmWJ"
      }
    },
    {
      "cell_type": "markdown",
      "source": [
        "9. Explain the purpose and usage of the `map()` function in Python.\n",
        "\n",
        "map() is useful when you need to apply a transformation function to each item in an iterable and transform them into a new iterable. map() is one of the tools that support a functional programming style in Python\n"
      ],
      "metadata": {
        "id": "p7X5bnWSk8kq"
      }
    },
    {
      "cell_type": "markdown",
      "source": [
        "10. What is the difference between `map()`, `reduce()`, and `filter()` functions in Python?\n",
        "\n",
        "'Map' applies a given function to each item of an iterable (like a list or set) and returns a list of the results. 'Filter' constructs a list from elements of an iterable for which a function returns true. 'Reduce' applies a rolling computation to sequential pairs of values in a list and returns a single result.\n"
      ],
      "metadata": {
        "id": "djl6F_Qck_F3"
      }
    },
    {
      "cell_type": "code",
      "source": [],
      "metadata": {
        "id": "sh4yn5zDc6kI"
      },
      "execution_count": null,
      "outputs": []
    },
    {
      "cell_type": "code",
      "source": [],
      "metadata": {
        "id": "__x1WHpfc6mH"
      },
      "execution_count": null,
      "outputs": []
    }
  ]
}